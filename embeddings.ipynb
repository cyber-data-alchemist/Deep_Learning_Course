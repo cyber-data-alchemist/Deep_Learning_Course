{
 "cells": [
  {
   "cell_type": "markdown",
   "id": "8d3d68c1-d79a-4df2-b96c-0c3994b13822",
   "metadata": {},
   "source": [
    "# Exploring Word Embeddings with GloVe and Numpy"
   ]
  },
  {
   "cell_type": "markdown",
   "id": "b7b37c6e-9361-49ef-91e0-c22713b2224b",
   "metadata": {},
   "source": [
    "In this exercise, we will delve into the intricacies of word embedding using the Global Vectors for Word Representation (GloVe) [1]. We'll utilize the 6B dataset to craft examples illustrating word analogies and word similarities. Additionally, we will visualize how these vectors encapsulate the semantic essence of words using charts generated with PCA and t-SNE."
   ]
  },
  {
   "cell_type": "markdown",
   "id": "f5ff88dd-f579-408d-9317-04fa7f149655",
   "metadata": {
    "tags": [],
    "toc-hr-collapsed": true
   },
   "source": [
    "## First Steps"
   ]
  },
  {
   "cell_type": "markdown",
   "id": "f77ec3d4-49ab-4384-9349-c8809287dafb",
   "metadata": {},
   "source": [
    "To kick off our exercise, we will import relevant Python libraries and load the dataset containing words along with their associated vectors. Furthermore, we'll serialize this data, enabling us to reuse it in subsequent exercises."
   ]
  },
  {
   "cell_type": "markdown",
   "id": "329dd09a",
   "metadata": {
    "tags": []
   },
   "source": [
    "### Import libraries"
   ]
  },
  {
   "cell_type": "markdown",
   "id": "6aa206f6-94e9-4fbf-900d-21d11896b244",
   "metadata": {},
   "source": [
    "We begin by importing our Python libraries."
   ]
  },
  {
   "cell_type": "markdown",
   "id": "f2218a1b-0721-4006-bbd5-ed212c320029",
   "metadata": {},
   "source": [
    "<div style=\"border:2px solid #1E90FF; padding:15px; margin-top:5px; margin-bottom:5px; border-radius:15px; box-shadow:4px 4px 12px #aaa; background-color:#E6E6FA; font-family:'Comic Sans MS', 'Chalkboard SE', 'Comic Neue', cursive; color:#333;\">\n",
    "    <h4 style=\"margin-top:0;\">Code Documentation</h4>\n",
    "    <b>What:</b><br>\n",
    "    We will import several Python libraries to facilitate our exercise. Specifically, we'll be using numpy, pickle, sklearn, and matplotlib.\n",
    "<br><br>\n",
    "    <b>Why:</b><br>\n",
    "    Here's why we've chosen these libraries and what they'll be used for:\n",
    "    <ul>\n",
    "    <li><b>Numpy:</b> This will be our primary tool for working with embeddings.</li>\n",
    "    <li><b>Pickle:</b> This will help us serialize the dataset, making it accessible for future exercises.</li>\n",
    "    <li><b>Sklearn's t-SNE:</b> With t-SNE, we'll visualize clusters of words to understand their semantic relationships.</li>\n",
    "    <li><b>Sklearn's PCA:</b> Similar to t-SNE, we'll use PCA to visualize word clusters and their semantic proximities.</li>\n",
    "    <li><b>Matplotlib:</b> This library will enable us to generate the required charts.</li>\n",
    "    </ul>\n",
    "    <b>How:</b><br>\n",
    "    We'll achieve our objectives by importing the aforementioned libraries, all of which should already be installed.\n",
    "<br><br>\n",
    "</div>\n"
   ]
  },
  {
   "cell_type": "code",
   "execution_count": 1,
   "id": "4af04b9d",
   "metadata": {
    "tags": []
   },
   "outputs": [],
   "source": [
    "# Import libraries\n",
    "import numpy as np\n",
    "import pickle\n",
    "\n",
    "from sklearn.manifold import TSNE\n",
    "from sklearn.decomposition import PCA\n",
    "\n",
    "import matplotlib.pyplot as plt\n",
    "plt.style.use('ggplot')"
   ]
  },
  {
   "cell_type": "markdown",
   "id": "8712cf42",
   "metadata": {
    "tags": []
   },
   "source": [
    "### Load file"
   ]
  },
  {
   "cell_type": "markdown",
   "id": "abdfad34-5bfd-4d3f-86a0-71865e58b010",
   "metadata": {},
   "source": [
    "We will begin with the data, which can be downloaded from: https://nlp.stanford.edu/data/glove.6B.zip. After downloading, we'll unzip the file and place it in the same folder as this exercise. The data is provided in a text format, so we'll transform it to create dictionaries pairing words with their corresponding vectors. Lastly, we'll serialize this data, facilitating future imports in the dictionary format."
   ]
  },
  {
   "cell_type": "markdown",
   "id": "a19004cd-038b-4650-877c-76b421b979dd",
   "metadata": {},
   "source": [
    "<div style=\"border:2px solid #1E90FF; padding:15px; margin-top:5px; margin-bottom:5px; border-radius:15px; box-shadow:4px 4px 12px #aaa; background-color:#E6E6FA; font-family:'Comic Sans MS', 'Chalkboard SE', 'Comic Neue', cursive; color:#333;\">\n",
    "    <h4 style=\"margin-top:0;\">Code Documentation</h4>\n",
    "    <b>What:</b><br>\n",
    "    We will access one of the various datasets from the 6B GloVe examples. Our goal is to transform this dataset into a dictionary of embedded values, where each word acts as a key, and its corresponding vector forms the values.\n",
    "<br><br>\n",
    "    <b>Why:</b><br>\n",
    "    We need this dataset in our environment to perform visualizations and to explore word similarities and analogies. \n",
    "    <br><br>\n",
    "    <b>How:</b><br>\n",
    "    We will read a file of various dimensions (50, 100, ..., 300). For each line in the file, the word (first value), will be used as the key for an initially empty dictionary, while the vector values on the same line will be assigned as its values.\n",
    "<br><br>\n",
    "</div>\n"
   ]
  },
  {
   "cell_type": "code",
   "execution_count": 2,
   "id": "8c3c9d2a",
   "metadata": {
    "tags": []
   },
   "outputs": [],
   "source": [
    "# Define dimensions and txt file to use\n",
    "emb_dim = 50\n",
    "PATH = f'./glove.6B.{emb_dim}d.txt'"
   ]
  },
  {
   "cell_type": "code",
   "execution_count": 3,
   "id": "25a1eae6",
   "metadata": {
    "code_folding": [],
    "tags": []
   },
   "outputs": [],
   "source": [
    "# Create dictionary with embeddings\n",
    "def create_emb_dictionary(path: str) -> dict:\n",
    "    \"\"\"\n",
    "    Create a dictionary with embeddings from a given file.\n",
    "\n",
    "    Parameters:\n",
    "    - path (str): The path to the file containing embeddings.\n",
    "\n",
    "    Returns:\n",
    "    - dict: A dictionary with words as keys and their embeddings as values.\n",
    "    \"\"\"\n",
    "    \n",
    "    embeddings_dict = {}\n",
    "    \n",
    "    with open(path, 'r', encoding='utf-8') as file:\n",
    "        for line in file:\n",
    "            values = line.strip().split()\n",
    "            word = values[0]\n",
    "            embedding = np.array(values[1:], dtype='float32')\n",
    "            embeddings_dict[word] = embedding\n",
    "            \n",
    "    return embeddings_dict"
   ]
  },
  {
   "cell_type": "code",
   "execution_count": 4,
   "id": "347a0e5e",
   "metadata": {
    "code_folding": [],
    "tags": []
   },
   "outputs": [],
   "source": [
    "# create dictionary\n",
    "embeddings_dict = create_emb_dictionary(PATH)"
   ]
  },
  {
   "cell_type": "markdown",
   "id": "6a765293-5670-40f3-8d1f-0b2d25d0a325",
   "metadata": {
    "tags": []
   },
   "source": [
    "### Serialize file"
   ]
  },
  {
   "cell_type": "markdown",
   "id": "b4f4716c-7d83-4c86-aac3-2c3383efeb81",
   "metadata": {},
   "source": [
    "We will serialize the file for future imports"
   ]
  },
  {
   "cell_type": "markdown",
   "id": "20699f38-8e07-4815-8c17-4944417ca9b2",
   "metadata": {},
   "source": [
    "<div style=\"border:2px solid #1E90FF; padding:15px; margin-top:5px; margin-bottom:5px; border-radius:15px; box-shadow:4px 4px 12px #aaa; background-color:#E6E6FA; font-family:'Comic Sans MS', 'Chalkboard SE', 'Comic Neue', cursive; color:#333;\">\n",
    "    <h4 style=\"margin-top:0;\">Code Documentation</h4>\n",
    "    <b>What:</b><br>\n",
    "    We will serialize the embeddings dictionary so we can utilize it in other Python projects.\n",
    "<br><br>\n",
    "    <b>Why:</b><br>\n",
    "    This ensures we can access the dictionary without needing the original text files or the methods previously defined.\n",
    "    <br><br>\n",
    "    <b>How:</b><br>\n",
    "    We will employ the pickle library, leveraging the embeddings dictionary we've already created.\n",
    "<br><br>\n",
    "</div>"
   ]
  },
  {
   "cell_type": "code",
   "execution_count": 5,
   "id": "1f01b760",
   "metadata": {
    "code_folding": [
     1
    ],
    "tags": []
   },
   "outputs": [],
   "source": [
    "# Serialize\n",
    "with open(f'embeddings_dict_{emb_dim}D.pkl', 'wb') as f:\n",
    "    pickle.dump(embeddings_dict, f)\n",
    "\n",
    "# Deserialize\n",
    "# with open('embeddings_dict_200D.pkl', 'rb') as f:\n",
    "#     embeddings_dict = pickle.load(f)"
   ]
  },
  {
   "cell_type": "markdown",
   "id": "b5f6b69a-96e7-4d6a-a63a-2259ad3554a7",
   "metadata": {
    "toc-hr-collapsed": true
   },
   "source": [
    "## Explore Embeddings"
   ]
  },
  {
   "cell_type": "markdown",
   "id": "38aecc0b-d897-42ed-bcc6-6f246f89e864",
   "metadata": {},
   "source": [
    "At this point, we possess an object named embeddings_dict that houses the embeddings for each word. These vector values serve as representations of the semantic characteristics of individual words [1]. As a result, words with similar attributes or meanings are closer in this vector space. Initially, we'll inspect these embeddings in their native vector format. Subsequently, by employing dimensionality reduction techniques, we'll observe how similar words cluster together.\n",
    "\n",
    "Once we've gained an intuitive grasp of semantic proximity, we'll further delve into this by constructing analogies and identifying akin words, this should allow us to understand why embeddings offer interpretations for both machines and humans."
   ]
  },
  {
   "cell_type": "markdown",
   "id": "fd0ab9aa",
   "metadata": {
    "tags": []
   },
   "source": [
    "### See some embeddings"
   ]
  },
  {
   "cell_type": "markdown",
   "id": "861347c4-13a1-4c4b-820b-227226648785",
   "metadata": {},
   "source": [
    "We will visualize some of the embeddings of the file we are using in the normal format: Word and numeric (real) values."
   ]
  },
  {
   "cell_type": "markdown",
   "id": "b82ab7c6-6dfa-4b3a-9577-dcd37922b998",
   "metadata": {},
   "source": [
    "<div style=\"border:2px solid #1E90FF; padding:15px; margin-top:5px; margin-bottom:5px; border-radius:15px; box-shadow:4px 4px 12px #aaa; background-color:#E6E6FA; font-family:'Comic Sans MS', 'Chalkboard SE', 'Comic Neue', cursive; color:#333;\">\n",
    "    <h4 style=\"margin-top:0;\">Code Documentation</h4>\n",
    "    <b>What:</b><br>\n",
    "    We will see some of the lines in the embedding files.\n",
    "<br><br>\n",
    "    <b>Why:</b><br>\n",
    "    This will allow us to visualize the data we are working with. While this data might not be meaningful for us, it does contain numbers so it will allow us to see that for each word (TOKEN), we have a numerical representation of it.\n",
    "    <br><br>\n",
    "    <b>How:</b><br>\n",
    "    We will create a function that takes a file path and a number of lines and display the TOKEN, the embedding values and the length of those values.\n",
    "<br><br>\n",
    "</div>"
   ]
  },
  {
   "cell_type": "code",
   "execution_count": 6,
   "id": "8b0991a9",
   "metadata": {
    "tags": []
   },
   "outputs": [],
   "source": [
    "# Show some\n",
    "def show_n_first_words(path, n_words) -> list:\n",
    "    \"\"\"\n",
    "    Prints a number of words from a 60B dataset\n",
    "\n",
    "    Parameters:\n",
    "    - path (str): The path to the file containing embeddings.\n",
    "\n",
    "    Returns:\n",
    "    - n_words: How many of the first lines will be displayed.\n",
    "    \"\"\"\n",
    "    with open(path, 'r') as f:\n",
    "        for i, line in enumerate(f):\n",
    "            values = line.strip().split()\n",
    "            print('TOKEN:', values[0])\n",
    "            print('Values: ', values[1:])\n",
    "            print('Length: ', len(values[1:]))\n",
    "            print('\\n')\n",
    "            if i>=n_words: break\n",
    "    return"
   ]
  },
  {
   "cell_type": "code",
   "execution_count": 7,
   "id": "a16259ec",
   "metadata": {
    "tags": []
   },
   "outputs": [
    {
     "name": "stdout",
     "output_type": "stream",
     "text": [
      "TOKEN: the\n",
      "Values:  ['0.418', '0.24968', '-0.41242', '0.1217', '0.34527', '-0.044457', '-0.49688', '-0.17862', '-0.00066023', '-0.6566', '0.27843', '-0.14767', '-0.55677', '0.14658', '-0.0095095', '0.011658', '0.10204', '-0.12792', '-0.8443', '-0.12181', '-0.016801', '-0.33279', '-0.1552', '-0.23131', '-0.19181', '-1.8823', '-0.76746', '0.099051', '-0.42125', '-0.19526', '4.0071', '-0.18594', '-0.52287', '-0.31681', '0.00059213', '0.0074449', '0.17778', '-0.15897', '0.012041', '-0.054223', '-0.29871', '-0.15749', '-0.34758', '-0.045637', '-0.44251', '0.18785', '0.0027849', '-0.18411', '-0.11514', '-0.78581']\n",
      "Length:  50\n",
      "\n",
      "\n",
      "TOKEN: ,\n",
      "Values:  ['0.013441', '0.23682', '-0.16899', '0.40951', '0.63812', '0.47709', '-0.42852', '-0.55641', '-0.364', '-0.23938', '0.13001', '-0.063734', '-0.39575', '-0.48162', '0.23291', '0.090201', '-0.13324', '0.078639', '-0.41634', '-0.15428', '0.10068', '0.48891', '0.31226', '-0.1252', '-0.037512', '-1.5179', '0.12612', '-0.02442', '-0.042961', '-0.28351', '3.5416', '-0.11956', '-0.014533', '-0.1499', '0.21864', '-0.33412', '-0.13872', '0.31806', '0.70358', '0.44858', '-0.080262', '0.63003', '0.32111', '-0.46765', '0.22786', '0.36034', '-0.37818', '-0.56657', '0.044691', '0.30392']\n",
      "Length:  50\n",
      "\n",
      "\n",
      "TOKEN: .\n",
      "Values:  ['0.15164', '0.30177', '-0.16763', '0.17684', '0.31719', '0.33973', '-0.43478', '-0.31086', '-0.44999', '-0.29486', '0.16608', '0.11963', '-0.41328', '-0.42353', '0.59868', '0.28825', '-0.11547', '-0.041848', '-0.67989', '-0.25063', '0.18472', '0.086876', '0.46582', '0.015035', '0.043474', '-1.4671', '-0.30384', '-0.023441', '0.30589', '-0.21785', '3.746', '0.0042284', '-0.18436', '-0.46209', '0.098329', '-0.11907', '0.23919', '0.1161', '0.41705', '0.056763', '-6.3681e-05', '0.068987', '0.087939', '-0.10285', '-0.13931', '0.22314', '-0.080803', '-0.35652', '0.016413', '0.10216']\n",
      "Length:  50\n",
      "\n",
      "\n",
      "TOKEN: of\n",
      "Values:  ['0.70853', '0.57088', '-0.4716', '0.18048', '0.54449', '0.72603', '0.18157', '-0.52393', '0.10381', '-0.17566', '0.078852', '-0.36216', '-0.11829', '-0.83336', '0.11917', '-0.16605', '0.061555', '-0.012719', '-0.56623', '0.013616', '0.22851', '-0.14396', '-0.067549', '-0.38157', '-0.23698', '-1.7037', '-0.86692', '-0.26704', '-0.2589', '0.1767', '3.8676', '-0.1613', '-0.13273', '-0.68881', '0.18444', '0.0052464', '-0.33874', '-0.078956', '0.24185', '0.36576', '-0.34727', '0.28483', '0.075693', '-0.062178', '-0.38988', '0.22902', '-0.21617', '-0.22562', '-0.093918', '-0.80375']\n",
      "Length:  50\n",
      "\n",
      "\n",
      "TOKEN: to\n",
      "Values:  ['0.68047', '-0.039263', '0.30186', '-0.17792', '0.42962', '0.032246', '-0.41376', '0.13228', '-0.29847', '-0.085253', '0.17118', '0.22419', '-0.10046', '-0.43653', '0.33418', '0.67846', '0.057204', '-0.34448', '-0.42785', '-0.43275', '0.55963', '0.10032', '0.18677', '-0.26854', '0.037334', '-2.0932', '0.22171', '-0.39868', '0.20912', '-0.55725', '3.8826', '0.47466', '-0.95658', '-0.37788', '0.20869', '-0.32752', '0.12751', '0.088359', '0.16351', '-0.21634', '-0.094375', '0.018324', '0.21048', '-0.03088', '-0.19722', '0.082279', '-0.09434', '-0.073297', '-0.064699', '-0.26044']\n",
      "Length:  50\n",
      "\n",
      "\n",
      "TOKEN: and\n",
      "Values:  ['0.26818', '0.14346', '-0.27877', '0.016257', '0.11384', '0.69923', '-0.51332', '-0.47368', '-0.33075', '-0.13834', '0.2702', '0.30938', '-0.45012', '-0.4127', '-0.09932', '0.038085', '0.029749', '0.10076', '-0.25058', '-0.51818', '0.34558', '0.44922', '0.48791', '-0.080866', '-0.10121', '-1.3777', '-0.10866', '-0.23201', '0.012839', '-0.46508', '3.8463', '0.31362', '0.13643', '-0.52244', '0.3302', '0.33707', '-0.35601', '0.32431', '0.12041', '0.3512', '-0.069043', '0.36885', '0.25168', '-0.24517', '0.25381', '0.1367', '-0.31178', '-0.6321', '-0.25028', '-0.38097']\n",
      "Length:  50\n",
      "\n",
      "\n"
     ]
    }
   ],
   "source": [
    "show_n_first_words(PATH, 5)"
   ]
  },
  {
   "cell_type": "markdown",
   "id": "ff828123",
   "metadata": {
    "tags": []
   },
   "source": [
    "### Plot some embeddings"
   ]
  },
  {
   "cell_type": "markdown",
   "id": "cbc4dad4-88f1-4cdd-a7a1-09431883966f",
   "metadata": {},
   "source": [
    "We've visualized some of the numerical values, which exist in an n-dimensional space. Given the high dimensionality, these values are not something we can easily interpret or visualize. However, in this section, we will reduce the dimensions to 2, enabling us to better visualize the embeddings. The objective is to observe that semantically similar words cluster closely together in the reduced space.\n"
   ]
  },
  {
   "cell_type": "markdown",
   "id": "028c896f-6b46-4b49-9f29-c4488a0bc933",
   "metadata": {},
   "source": [
    "<div style=\"border:2px solid #1E90FF; padding:15px; margin-top:5px; margin-bottom:5px; border-radius:15px; box-shadow:4px 4px 12px #aaa; background-color:#E6E6FA; font-family:'Comic Sans MS', 'Chalkboard SE', 'Comic Neue', cursive; color:#333;\">\n",
    "    <h4 style=\"margin-top:0;\">Code Documentation</h4>\n",
    "    <b>What:</b><br>\n",
    "    We'll visualize word embeddings from our dictionary after reducing their dimensionality. To streamline this process, we'll define a select set of words.\n",
    "<br><br>\n",
    "    <b>Why:</b><br>\n",
    "    This exercise aims to foster an intuitive understanding of word embeddings. By visualizing them, we can see how their vector representations lead to semantic proximity or similarity between words.\n",
    "    <br><br>\n",
    "    <b>How:</b><br>\n",
    "    We'll employ PCA or t-SNE algorithms to reduce the dimensions of the embeddings to 2. With a predefined set of words, we'll harness their vector representations for the chosen reduction method and plot them in a 2D space.\n",
    "<br><br>\n",
    "</div>"
   ]
  },
  {
   "cell_type": "code",
   "execution_count": 8,
   "id": "3d3ffaa4",
   "metadata": {
    "tags": []
   },
   "outputs": [],
   "source": [
    "# Function to reduce and plot embeddings\n",
    "def plot_embeddings(emb_path, words2show, emb_dim, embeddings_dict, func=PCA) -> plt:\n",
    "    \"\"\"\n",
    "    Function to visualize embeddings in 2 or 3 dimensions using either PCA or t-SNE.\n",
    "\n",
    "    Args:\n",
    "    - emb_path: path to the embeddings\n",
    "    - words2show: words to visualize\n",
    "    - emb_dim: dimension of the embeddings\n",
    "    - embeddings_dict: dictionary of word embeddings\n",
    "    - func: function for dimensionality reduction (default is PCA)\n",
    "    - num_components: number of components for visualization (default is 2)\n",
    "\n",
    "    Returns:\n",
    "    - plot showing the word embeddings\n",
    "    \"\"\"\n",
    "    \n",
    "    assert func in [PCA, TSNE], 'Unsupported dimensionality reduction method'\n",
    "\n",
    "    num_components = 2\n",
    "    \n",
    "    # Filter embeddings for the words you want to show\n",
    "    filtered_embeddings = {\n",
    "        word: embeddings_dict[word] for word in words2show if word in embeddings_dict}\n",
    "\n",
    "    # Get the word vectors and words\n",
    "    word_vectors = np.array(list(filtered_embeddings.values()))\n",
    "    words = list(filtered_embeddings.keys())\n",
    "\n",
    "    # Apply dimensionality reduction using the specified method (PCA or t-SNE)\n",
    "    if func == PCA:\n",
    "        reducer = PCA(n_components=num_components)\n",
    "    elif func == TSNE:\n",
    "        reducer = TSNE(n_components=num_components)\n",
    "\n",
    "    reduced_embeddings = reducer.fit_transform(word_vectors)\n",
    "\n",
    "    # Plot the reduced embeddings\n",
    "    x, y = reduced_embeddings.T\n",
    "    plt.figure(figsize=(10, 8))\n",
    "    plt.scatter(x, y)\n",
    "    for i, word in enumerate(words):\n",
    "        plt.annotate(word, (x[i], y[i]))\n",
    "    plt.title(f'{func.__name__} Visualization of Word Embeddings')\n",
    "    plt.show()"
   ]
  },
  {
   "cell_type": "code",
   "execution_count": 9,
   "id": "9b1b120a",
   "metadata": {
    "tags": []
   },
   "outputs": [],
   "source": [
    "# Words to define\n",
    "words= ['burger', 'tortilla', 'bread', 'pizza', 'beef', 'steak', 'fries', 'chips', \n",
    "            'argentina', 'mexico', 'spain', 'usa', 'france', 'italy', 'greece', 'china',\n",
    "            'water', 'beer', 'tequila', 'wine', 'whisky', 'brandy', 'vodka', 'coffee', 'tea',\n",
    "            'apple', 'banana', 'orange', 'lemon', 'grapefruit', 'grape', 'strawberry', 'raspberry',\n",
    "            'school', 'work', 'university', 'highschool']\n"
   ]
  },
  {
   "cell_type": "code",
   "execution_count": 10,
   "id": "87d33789",
   "metadata": {
    "tags": []
   },
   "outputs": [
    {
     "data": {
      "image/png": "[encoded data removed]",
      "text/plain": [
       "<Figure size 1000x800 with 1 Axes>"
      ]
     },
     "metadata": {},
     "output_type": "display_data"
    }
   ],
   "source": [
    "# PCA dimensionality reduction for visualization\n",
    "plot_embeddings(PATH, words, emb_dim, embeddings_dict, PCA)"
   ]
  },
  {
   "cell_type": "code",
   "execution_count": 11,
   "id": "f22bacb4",
   "metadata": {
    "tags": []
   },
   "outputs": [
    {
     "data": {
      "image/png": "[encoded data removed]",
      "text/plain": [
       "<Figure size 1000x800 with 1 Axes>"
      ]
     },
     "metadata": {},
     "output_type": "display_data"
    }
   ],
   "source": [
    "# t-SNE dimensionality reduction for visualization\n",
    "plot_embeddings(PATH, words, emb_dim, embeddings_dict, TSNE)"
   ]
  },
  {
   "cell_type": "markdown",
   "id": "8211b7f1",
   "metadata": {
    "tags": []
   },
   "source": [
    "### Let us compute analogies"
   ]
  },
  {
   "cell_type": "markdown",
   "id": "852eec86-8edd-4152-8084-8d726411c906",
   "metadata": {},
   "source": [
    "Now that we have visualized that words with simmilar properties tend to be together in our dimensionality reduction examples, we will test more in depth the validity of the hypothesis that semantic features are represented in these embeddings. For that we will use an exercise of generating analogies."
   ]
  },
  {
   "cell_type": "markdown",
   "id": "f07a4f06-3176-42e3-8acd-5ef8d2975fc0",
   "metadata": {},
   "source": [
    "\n",
    "Here's the enhanced content:\n",
    "\n",
    "<div style=\"border:2px solid #1E90FF; padding:15px; margin-top:5px; margin-bottom:5px; border-radius:15px; box-shadow:4px 4px 12px #aaa; background-color:#E6E6FA; font-family:'Comic Sans MS', 'Chalkboard SE', 'Comic Neue', cursive; color:#333;\">\n",
    "    <h4 style=\"margin-top:0;\">Code Documentation</h4>\n",
    "    <b>What:</b><br>\n",
    "    We're introducing a function to generate analogies using word embeddings.\n",
    "<br><br>\n",
    "    <b>Why:</b><br>\n",
    "    The aim is to ascertain whether semantic features are accurately captured within the embeddings.\n",
    "    <br><br>\n",
    "    <b>How:</b><br>\n",
    "    Exploiting the numerical nature of word embeddings, the function will manipulate the vectors associated with certain words (TOKENS) through mathematical operations such as addition and subtraction. For example, by subtracting a specific attribute from one word and adding another, we can conceptually shift a word's properties (e.g., altering gender or royalty as in the \"king\" to \"queen\" transition using \"male\" and \"female\" attributes). After deriving a new vector representation, the function searches the embeddings dictionary to identify the closest vector, yielding the desired analogy.\n",
    "<br><br>\n",
    "</div>"
   ]
  },
  {
   "cell_type": "code",
   "execution_count": 12,
   "id": "0003ce18",
   "metadata": {},
   "outputs": [],
   "source": [
    "# Function to find analogies\n",
    "def find_analogy(word1, word2, word3, embeddings_dict) -> str:\n",
    "    \"\"\"\n",
    "    Determine the word that completes the analogy: word1 to word2 is like word3 to ?\n",
    "\n",
    "    Args:\n",
    "    - word1 (str): First word in the analogy.\n",
    "    - word2 (str): Second word in the analogy.\n",
    "    - word3 (str): Third word in the analogy.\n",
    "    - embeddings_dict (dict): Dictionary containing word embeddings.\n",
    "\n",
    "    Returns:\n",
    "    - str: Word that completes the analogy.\n",
    "    \"\"\"\n",
    "    # Ensure all words are in the embeddings dictionary\n",
    "    if word1 not in embeddings_dict or word2 not in embeddings_dict or word3 not in embeddings_dict:\n",
    "        return \"One or more words are not in the embeddings dictionary.\"\n",
    "\n",
    "    # Calculate the analogy vector\n",
    "    analogy_vector = embeddings_dict[word2] - embeddings_dict[word1] + embeddings_dict[word3]\n",
    "\n",
    "    # Initialize best match parameters\n",
    "    best_similarity = -float('inf')\n",
    "    best_word = None\n",
    "\n",
    "    # Find the word that completes the analogy\n",
    "    for word, vector in embeddings_dict.items():\n",
    "        if word not in [word1, word2, word3]:\n",
    "            similarity = np.dot(analogy_vector, vector) / (np.linalg.norm(analogy_vector) * np.linalg.norm(vector))\n",
    "            if similarity > best_similarity:\n",
    "                best_similarity = similarity\n",
    "                best_word = word\n",
    "\n",
    "    return best_word"
   ]
  },
  {
   "cell_type": "code",
   "execution_count": 13,
   "id": "9c02ec01",
   "metadata": {},
   "outputs": [
    {
     "name": "stdout",
     "output_type": "stream",
     "text": [
      "man is to king as woman is to queen\n"
     ]
    }
   ],
   "source": [
    "# Analogy example\n",
    "w1 = 'man'\n",
    "w2 = 'king'\n",
    "w3 = 'woman'\n",
    "w4 = find_analogy(w1, w2, w3, embeddings_dict)\n",
    "\n",
    "print(f'{w1} is to {w2} as {w3} is to {w4}')"
   ]
  },
  {
   "cell_type": "code",
   "execution_count": 14,
   "id": "33c5e29f-db2e-462a-9afa-9b46c886d5ac",
   "metadata": {
    "tags": []
   },
   "outputs": [
    {
     "name": "stdout",
     "output_type": "stream",
     "text": [
      "good is to bad as white is to black\n"
     ]
    }
   ],
   "source": [
    "# Analogy example\n",
    "w1 = 'good'\n",
    "w2 = 'bad'\n",
    "w3 = 'white'\n",
    "w4 = find_analogy(w1, w2, w3, embeddings_dict)\n",
    "\n",
    "print(f'{w1} is to {w2} as {w3} is to {w4}')"
   ]
  },
  {
   "cell_type": "markdown",
   "id": "97e9f5a5-af19-44d7-bba2-df3631c82d07",
   "metadata": {
    "tags": []
   },
   "source": [
    "### Find similar words"
   ]
  },
  {
   "cell_type": "markdown",
   "id": "110553f9-c79c-4865-9fe6-10e97c483c8e",
   "metadata": {},
   "source": [
    "Next we will see simmilar words"
   ]
  },
  {
   "cell_type": "markdown",
   "id": "419105c4-3403-4a4b-942e-f0e4816171af",
   "metadata": {},
   "source": [
    "<div style=\"border:2px solid #1E90FF; padding:15px; margin-top:5px; margin-bottom:5px; border-radius:15px; box-shadow:4px 4px 12px #aaa; background-color:#E6E6FA; font-family:'Comic Sans MS', 'Chalkboard SE', 'Comic Neue', cursive; color:#333;\">\n",
    "    <h4 style=\"margin-top:0;\">Code Documentation</h4>\n",
    "    <b>What:</b><br>\n",
    "    A function to retrieve a list of the top 10 words most similar to a given input word, based on their embeddings.\n",
    "<br><br>\n",
    "    <b>Why:</b><br>\n",
    "    Demonstrating that the embedding model can understand semantic relationships between words. For instance, it should be able to group related concepts together, such as foods with other foods, colors with other colors, and so on.\n",
    "    <br><br>\n",
    "    <b>How:</b><br>\n",
    "    By leveraging the embeddings dictionary, we compute the cosine similarity between the vector representation of the input word and the vectors of all other words. The function then returns the top 10 words that have the highest similarity scores.\n",
    "<br><br>\n",
    "</div>\n"
   ]
  },
  {
   "cell_type": "code",
   "execution_count": 15,
   "id": "bb50e0f7",
   "metadata": {},
   "outputs": [],
   "source": [
    "# most similar\n",
    "def find_most_similar(word, embeddings_dict, top_n=10) ->list:\n",
    "    \"\"\"\n",
    "    Find the top N most similar words to the given word based on their embeddings.\n",
    "\n",
    "    Args:\n",
    "    - word (str): The input word.\n",
    "    - embeddings_dict (dict): Dictionary containing word embeddings.\n",
    "    - top_n (int): Number of top similar words to return. Default is 10.\n",
    "\n",
    "    Returns:\n",
    "    - list: List of top N most similar words.\n",
    "    \"\"\"\n",
    "    # Ensure the input word is in the embeddings dictionary\n",
    "    if word not in embeddings_dict:\n",
    "        return \"The word is not in the embeddings dictionary.\"\n",
    "\n",
    "    # Calculate the cosine similarities between the input word and all other words\n",
    "    similarities = {}\n",
    "    word_vector = embeddings_dict[word]\n",
    "    for other_word, other_vector in embeddings_dict.items():\n",
    "        if other_word != word:\n",
    "            similarity = (np.dot(word_vector, other_vector) /\n",
    "                          (np.linalg.norm(word_vector) * np.linalg.norm(other_vector)))\n",
    "            similarities[other_word] = similarity\n",
    "\n",
    "    # Sort the words by similarity and return the top N most similar words\n",
    "    most_similar_words = sorted(similarities, key=similarities.get, reverse=True)[:top_n]\n",
    "\n",
    "    return most_similar_words"
   ]
  },
  {
   "cell_type": "code",
   "execution_count": 16,
   "id": "7946d712",
   "metadata": {},
   "outputs": [],
   "source": [
    "most_similar = find_most_similar('mexico', embeddings_dict)"
   ]
  },
  {
   "cell_type": "code",
   "execution_count": 17,
   "id": "3b6e0ea1",
   "metadata": {},
   "outputs": [
    {
     "name": "stdout",
     "output_type": "stream",
     "text": [
      "1 ---> mexican\n",
      "2 ---> venezuela\n",
      "3 ---> colombia\n",
      "4 ---> peru\n",
      "5 ---> chile\n",
      "6 ---> puerto\n",
      "7 ---> rico\n",
      "8 ---> cuba\n",
      "9 ---> guatemala\n",
      "10 ---> panama\n"
     ]
    }
   ],
   "source": [
    "for i, w in enumerate(most_similar, 1):\n",
    "    print(f'{i} ---> {w}')"
   ]
  },
  {
   "cell_type": "markdown",
   "id": "1d12fdde-5066-4c98-ab2f-2e80f699a31e",
   "metadata": {},
   "source": [
    "## Conclussions"
   ]
  },
  {
   "cell_type": "markdown",
   "id": "2563f477-006e-4b41-995e-5c1c8ab3103f",
   "metadata": {},
   "source": [
    "In this notebook, we delved deep into the intricacies of GloVe embeddings. Initially, we employed dimensionality reduction techniques to visually illustrate how semantically similar words tend to cluster together in the embedding space. We then showcased the power of these embeddings by performing \"mathematical\" operations on them, creating word analogies. This not only underlined the encapsulation of semantic features within the embeddings but also emphasized how they enable the computation of proximities and differences between words. In the concluding part, we capitalized on this understanding to discern similar words based on cosine similarity. This further reiterated the key insight: words of the same semantic category or nature are closely aligned in the embedding space."
   ]
  },
  {
   "cell_type": "markdown",
   "id": "d02441fb-2b23-456a-84f1-f10f0d9f0b1d",
   "metadata": {},
   "source": [
    "## References"
   ]
  },
  {
   "cell_type": "markdown",
   "id": "3c066c90-f565-47b4-a234-241007cf2476",
   "metadata": {},
   "source": [
    "[1] J. Pennington, R. Socher, and C. D. Manning, \"GloVe: Global Vectors for Word Representation,\" in Empirical Methods in Natural Language Processing (EMNLP), 2014, pp. 1532-1543. [Online]. Available: http://www.aclweb.org/anthology/D14-1162.\n",
    "\n"
   ]
  },
  {
   "cell_type": "markdown",
   "id": "a4e1b60d-c18d-4e81-94dd-1f53427a5f38",
   "metadata": {
    "tags": []
   },
   "source": [
    "======================== End of Activity ========================"
   ]
  }
 ],
 "metadata": {
  "kernelspec": {
   "display_name": "Python 3 (ipykernel)",
   "language": "python",
   "name": "python3"
  },
  "language_info": {
   "codemirror_mode": {
    "name": "ipython",
    "version": 3
   },
   "file_extension": ".py",
   "mimetype": "text/x-python",
   "name": "python",
   "nbconvert_exporter": "python",
   "pygments_lexer": "ipython3",
   "version": "3.11.4"
  },
  "varInspector": {
   "cols": {
    "lenName": 16,
    "lenType": 16,
    "lenVar": 40
   },
   "kernels_config": {
    "python": {
     "delete_cmd_postfix": "",
     "delete_cmd_prefix": "del ",
     "library": "var_list.py",
     "varRefreshCmd": "print(var_dic_list())"
    },
    "r": {
     "delete_cmd_postfix": ") ",
     "delete_cmd_prefix": "rm(",
     "library": "var_list.r",
     "varRefreshCmd": "cat(var_dic_list()) "
    }
   },
   "types_to_exclude": [
    "module",
    "function",
    "builtin_function_or_method",
    "instance",
    "_Feature"
   ],
   "window_display": false
  }
 },
 "nbformat": 4,
 "nbformat_minor": 5
}
